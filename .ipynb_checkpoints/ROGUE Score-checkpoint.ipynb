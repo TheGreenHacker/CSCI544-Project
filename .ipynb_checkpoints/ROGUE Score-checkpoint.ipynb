{
 "cells": [
  {
   "cell_type": "code",
   "execution_count": 1,
   "metadata": {
    "id": "lJT14McA2OnS"
   },
   "outputs": [],
   "source": [
    "import pandas as pd\n",
    "t5 = pd.read_csv('data/ROUGE/datatest3.csv')\n",
    "bert = pd.read_csv('data/ROUGE/reviews_with_bert_summaries.csv')\n",
    "bart = pd.read_csv('data/ROUGEreviews_with_bart_summaries.csv')"
   ]
  },
  {
   "cell_type": "code",
   "execution_count": 3,
   "metadata": {
    "colab": {
     "base_uri": "https://localhost:8080/",
     "height": 538
    },
    "id": "qbOuaPpjPwM6",
    "outputId": "b93d0138-8735-43a7-eb6b-a6c996b529ce"
   },
   "outputs": [
    {
     "data": {
      "text/html": [
       "\n",
       "  <div id=\"df-c5321d07-aab3-465f-96fb-590491565c7f\">\n",
       "    <div class=\"colab-df-container\">\n",
       "      <div>\n",
       "<style scoped>\n",
       "    .dataframe tbody tr th:only-of-type {\n",
       "        vertical-align: middle;\n",
       "    }\n",
       "\n",
       "    .dataframe tbody tr th {\n",
       "        vertical-align: top;\n",
       "    }\n",
       "\n",
       "    .dataframe thead th {\n",
       "        text-align: right;\n",
       "    }\n",
       "</style>\n",
       "<table border=\"1\" class=\"dataframe\">\n",
       "  <thead>\n",
       "    <tr style=\"text-align: right;\">\n",
       "      <th></th>\n",
       "      <th>Unnamed: 0</th>\n",
       "      <th>Review</th>\n",
       "      <th>Topic</th>\n",
       "      <th>Summaries</th>\n",
       "    </tr>\n",
       "  </thead>\n",
       "  <tbody>\n",
       "    <tr>\n",
       "      <th>0</th>\n",
       "      <td>0</td>\n",
       "      <td>What first caught my attention of these bars w...</td>\n",
       "      <td>Food</td>\n",
       "      <td>&lt;pad&gt; a vegan and soy free bar was a nice chan...</td>\n",
       "    </tr>\n",
       "    <tr>\n",
       "      <th>1</th>\n",
       "      <td>1</td>\n",
       "      <td>Let me first tell you that before I was turned...</td>\n",
       "      <td>Food</td>\n",
       "      <td>&lt;pad&gt; i found the caramel missing an element -...</td>\n",
       "    </tr>\n",
       "    <tr>\n",
       "      <th>2</th>\n",
       "      <td>2</td>\n",
       "      <td>I find this Peach Green Tea to be the BEST and...</td>\n",
       "      <td>Food</td>\n",
       "      <td>&lt;pad&gt; peach green tea is the BEST and I do not...</td>\n",
       "    </tr>\n",
       "    <tr>\n",
       "      <th>3</th>\n",
       "      <td>3</td>\n",
       "      <td>My husband and I are not big coffee drinkers. ...</td>\n",
       "      <td>Food</td>\n",
       "      <td>&lt;pad&gt; cnn.com's ireport boot camp challenges i...</td>\n",
       "    </tr>\n",
       "    <tr>\n",
       "      <th>4</th>\n",
       "      <td>4</td>\n",
       "      <td>I recently bought a 50 pack of the Tully's Ita...</td>\n",
       "      <td>Food</td>\n",
       "      <td>&lt;pad&gt; the Tully's Italian Roast K-cups are ava...</td>\n",
       "    </tr>\n",
       "    <tr>\n",
       "      <th>5</th>\n",
       "      <td>5</td>\n",
       "      <td>When I opened the box of these tea bags, I was...</td>\n",
       "      <td>Food</td>\n",
       "      <td>&lt;pad&gt; i sincerely will purchase several of the...</td>\n",
       "    </tr>\n",
       "    <tr>\n",
       "      <th>6</th>\n",
       "      <td>6</td>\n",
       "      <td>I stumbled across these bars at an industry tr...</td>\n",
       "      <td>Food</td>\n",
       "      <td>&lt;pad&gt; my picky 10 year old son tried the Cooki...</td>\n",
       "    </tr>\n",
       "    <tr>\n",
       "      <th>7</th>\n",
       "      <td>7</td>\n",
       "      <td>I purchased this order so that I could make ho...</td>\n",
       "      <td>Food</td>\n",
       "      <td>&lt;pad&gt; jars of organic coconut oil were sent to...</td>\n",
       "    </tr>\n",
       "    <tr>\n",
       "      <th>8</th>\n",
       "      <td>8</td>\n",
       "      <td>I have been drinking Taster's Choice instant f...</td>\n",
       "      <td>Food</td>\n",
       "      <td>&lt;pad&gt; taster's choice instant flavored coffee ...</td>\n",
       "    </tr>\n",
       "    <tr>\n",
       "      <th>9</th>\n",
       "      <td>9</td>\n",
       "      <td>I picked up a box of this tea at my local Cost...</td>\n",
       "      <td>Food</td>\n",
       "      <td>&lt;pad&gt; my DR recommended that I switch from cof...</td>\n",
       "    </tr>\n",
       "  </tbody>\n",
       "</table>\n",
       "</div>\n",
       "      <button class=\"colab-df-convert\" onclick=\"convertToInteractive('df-c5321d07-aab3-465f-96fb-590491565c7f')\"\n",
       "              title=\"Convert this dataframe to an interactive table.\"\n",
       "              style=\"display:none;\">\n",
       "        \n",
       "  <svg xmlns=\"http://www.w3.org/2000/svg\" height=\"24px\"viewBox=\"0 0 24 24\"\n",
       "       width=\"24px\">\n",
       "    <path d=\"M0 0h24v24H0V0z\" fill=\"none\"/>\n",
       "    <path d=\"M18.56 5.44l.94 2.06.94-2.06 2.06-.94-2.06-.94-.94-2.06-.94 2.06-2.06.94zm-11 1L8.5 8.5l.94-2.06 2.06-.94-2.06-.94L8.5 2.5l-.94 2.06-2.06.94zm10 10l.94 2.06.94-2.06 2.06-.94-2.06-.94-.94-2.06-.94 2.06-2.06.94z\"/><path d=\"M17.41 7.96l-1.37-1.37c-.4-.4-.92-.59-1.43-.59-.52 0-1.04.2-1.43.59L10.3 9.45l-7.72 7.72c-.78.78-.78 2.05 0 2.83L4 21.41c.39.39.9.59 1.41.59.51 0 1.02-.2 1.41-.59l7.78-7.78 2.81-2.81c.8-.78.8-2.07 0-2.86zM5.41 20L4 18.59l7.72-7.72 1.47 1.35L5.41 20z\"/>\n",
       "  </svg>\n",
       "      </button>\n",
       "      \n",
       "  <style>\n",
       "    .colab-df-container {\n",
       "      display:flex;\n",
       "      flex-wrap:wrap;\n",
       "      gap: 12px;\n",
       "    }\n",
       "\n",
       "    .colab-df-convert {\n",
       "      background-color: #E8F0FE;\n",
       "      border: none;\n",
       "      border-radius: 50%;\n",
       "      cursor: pointer;\n",
       "      display: none;\n",
       "      fill: #1967D2;\n",
       "      height: 32px;\n",
       "      padding: 0 0 0 0;\n",
       "      width: 32px;\n",
       "    }\n",
       "\n",
       "    .colab-df-convert:hover {\n",
       "      background-color: #E2EBFA;\n",
       "      box-shadow: 0px 1px 2px rgba(60, 64, 67, 0.3), 0px 1px 3px 1px rgba(60, 64, 67, 0.15);\n",
       "      fill: #174EA6;\n",
       "    }\n",
       "\n",
       "    [theme=dark] .colab-df-convert {\n",
       "      background-color: #3B4455;\n",
       "      fill: #D2E3FC;\n",
       "    }\n",
       "\n",
       "    [theme=dark] .colab-df-convert:hover {\n",
       "      background-color: #434B5C;\n",
       "      box-shadow: 0px 1px 3px 1px rgba(0, 0, 0, 0.15);\n",
       "      filter: drop-shadow(0px 1px 2px rgba(0, 0, 0, 0.3));\n",
       "      fill: #FFFFFF;\n",
       "    }\n",
       "  </style>\n",
       "\n",
       "      <script>\n",
       "        const buttonEl =\n",
       "          document.querySelector('#df-c5321d07-aab3-465f-96fb-590491565c7f button.colab-df-convert');\n",
       "        buttonEl.style.display =\n",
       "          google.colab.kernel.accessAllowed ? 'block' : 'none';\n",
       "\n",
       "        async function convertToInteractive(key) {\n",
       "          const element = document.querySelector('#df-c5321d07-aab3-465f-96fb-590491565c7f');\n",
       "          const dataTable =\n",
       "            await google.colab.kernel.invokeFunction('convertToInteractive',\n",
       "                                                     [key], {});\n",
       "          if (!dataTable) return;\n",
       "\n",
       "          const docLinkHtml = 'Like what you see? Visit the ' +\n",
       "            '<a target=\"_blank\" href=https://colab.research.google.com/notebooks/data_table.ipynb>data table notebook</a>'\n",
       "            + ' to learn more about interactive tables.';\n",
       "          element.innerHTML = '';\n",
       "          dataTable['output_type'] = 'display_data';\n",
       "          await google.colab.output.renderOutput(dataTable, element);\n",
       "          const docLink = document.createElement('div');\n",
       "          docLink.innerHTML = docLinkHtml;\n",
       "          element.appendChild(docLink);\n",
       "        }\n",
       "      </script>\n",
       "    </div>\n",
       "  </div>\n",
       "  "
      ],
      "text/plain": [
       "   Unnamed: 0                                             Review Topic  \\\n",
       "0           0  What first caught my attention of these bars w...  Food   \n",
       "1           1  Let me first tell you that before I was turned...  Food   \n",
       "2           2  I find this Peach Green Tea to be the BEST and...  Food   \n",
       "3           3  My husband and I are not big coffee drinkers. ...  Food   \n",
       "4           4  I recently bought a 50 pack of the Tully's Ita...  Food   \n",
       "5           5  When I opened the box of these tea bags, I was...  Food   \n",
       "6           6  I stumbled across these bars at an industry tr...  Food   \n",
       "7           7  I purchased this order so that I could make ho...  Food   \n",
       "8           8  I have been drinking Taster's Choice instant f...  Food   \n",
       "9           9  I picked up a box of this tea at my local Cost...  Food   \n",
       "\n",
       "                                           Summaries  \n",
       "0  <pad> a vegan and soy free bar was a nice chan...  \n",
       "1  <pad> i found the caramel missing an element -...  \n",
       "2  <pad> peach green tea is the BEST and I do not...  \n",
       "3  <pad> cnn.com's ireport boot camp challenges i...  \n",
       "4  <pad> the Tully's Italian Roast K-cups are ava...  \n",
       "5  <pad> i sincerely will purchase several of the...  \n",
       "6  <pad> my picky 10 year old son tried the Cooki...  \n",
       "7  <pad> jars of organic coconut oil were sent to...  \n",
       "8  <pad> taster's choice instant flavored coffee ...  \n",
       "9  <pad> my DR recommended that I switch from cof...  "
      ]
     },
     "execution_count": 3,
     "metadata": {},
     "output_type": "execute_result"
    }
   ],
   "source": [
    "t5.head(10)"
   ]
  },
  {
   "cell_type": "code",
   "execution_count": 4,
   "metadata": {
    "id": "aQQ6jgWNPgv_"
   },
   "outputs": [],
   "source": [
    "t5['Summaries'] = t5['Summaries'].str.replace(\"<pad>\",\"\")"
   ]
  },
  {
   "cell_type": "code",
   "execution_count": 5,
   "metadata": {
    "colab": {
     "base_uri": "https://localhost:8080/",
     "height": 91
    },
    "id": "OAutkYtRPpLJ",
    "outputId": "e5caf426-24e7-4d73-f545-a6ec73d9cdd1"
   },
   "outputs": [
    {
     "data": {
      "application/vnd.google.colaboratory.intrinsic+json": {
       "type": "string"
      },
      "text/plain": [
       "\" a vegan and soy free bar was a nice change of pace. the taste was just so not what i expected. the nutrition is there, but the flavor is not. if you can't find it at a store near you, dont worry because you are not missing anything.</s>\""
      ]
     },
     "execution_count": 5,
     "metadata": {},
     "output_type": "execute_result"
    }
   ],
   "source": [
    "t5['Summaries'][0]"
   ]
  },
  {
   "cell_type": "code",
   "execution_count": 42,
   "metadata": {
    "id": "fjQDlQOuQNcA"
   },
   "outputs": [],
   "source": [
    "t5_rogue = pd.DataFrame(columns=['Reviews','Human Summary','Machine Summary'])"
   ]
  },
  {
   "cell_type": "code",
   "execution_count": 7,
   "metadata": {
    "id": "gt_fIfH-8AU-"
   },
   "outputs": [],
   "source": [
    "bert_rogue = pd.DataFrame(columns=['Reviews','Human Summary','Machine Summary'])"
   ]
  },
  {
   "cell_type": "code",
   "execution_count": 8,
   "metadata": {
    "id": "9xn29kZy-Bn6"
   },
   "outputs": [],
   "source": [
    "bart_rogue = pd.DataFrame(columns=['Reviews','Human Summary','Machine Summary'])"
   ]
  },
  {
   "cell_type": "code",
   "execution_count": 11,
   "metadata": {
    "id": "UGmb21BKouaL"
   },
   "outputs": [],
   "source": [
    "electronics = pd.read_csv('data/ROUGE/electronics.csv')\n",
    "food_df = pd.read_csv('data/ROUGE/food_df.csv')\n",
    "movies = pd.read_csv('data/ROUGE/movie_df_humansum.csv',encoding='latin1')"
   ]
  },
  {
   "cell_type": "code",
   "execution_count": 35,
   "metadata": {
    "colab": {
     "base_uri": "https://localhost:8080/",
     "height": 221
    },
    "id": "AcODjpvHpXc0",
    "outputId": "3886f251-5a83-4692-8d88-676037681831"
   },
   "outputs": [
    {
     "data": {
      "text/html": [
       "\n",
       "  <div id=\"df-ef8372b0-8eb0-48a9-8a59-221538c669cf\">\n",
       "    <div class=\"colab-df-container\">\n",
       "      <div>\n",
       "<style scoped>\n",
       "    .dataframe tbody tr th:only-of-type {\n",
       "        vertical-align: middle;\n",
       "    }\n",
       "\n",
       "    .dataframe tbody tr th {\n",
       "        vertical-align: top;\n",
       "    }\n",
       "\n",
       "    .dataframe thead th {\n",
       "        text-align: right;\n",
       "    }\n",
       "</style>\n",
       "<table border=\"1\" class=\"dataframe\">\n",
       "  <thead>\n",
       "    <tr style=\"text-align: right;\">\n",
       "      <th></th>\n",
       "      <th>Original summaries</th>\n",
       "      <th>Human Summaries</th>\n",
       "    </tr>\n",
       "  </thead>\n",
       "  <tbody>\n",
       "    <tr>\n",
       "      <th>0</th>\n",
       "      <td>Original Review: This cable does the job but b...</td>\n",
       "      <td>This cable does the job and is sturdy but is t...</td>\n",
       "    </tr>\n",
       "    <tr>\n",
       "      <th>1</th>\n",
       "      <td>At the time of writing this review (9-9-2014) ...</td>\n",
       "      <td>I have been using this KVM that I purchased on...</td>\n",
       "    </tr>\n",
       "    <tr>\n",
       "      <th>2</th>\n",
       "      <td>I never thought to check what keys are and are...</td>\n",
       "      <td>I never had to check the keys on the keyboard ...</td>\n",
       "    </tr>\n",
       "    <tr>\n",
       "      <th>3</th>\n",
       "      <td>Several things I like about this helmet.  1. C...</td>\n",
       "      <td>I like the color of this helmet, the easy ratc...</td>\n",
       "    </tr>\n",
       "    <tr>\n",
       "      <th>4</th>\n",
       "      <td>I was not very impressed with these books, tho...</td>\n",
       "      <td>I was not impressed with these books although ...</td>\n",
       "    </tr>\n",
       "  </tbody>\n",
       "</table>\n",
       "</div>\n",
       "      <button class=\"colab-df-convert\" onclick=\"convertToInteractive('df-ef8372b0-8eb0-48a9-8a59-221538c669cf')\"\n",
       "              title=\"Convert this dataframe to an interactive table.\"\n",
       "              style=\"display:none;\">\n",
       "        \n",
       "  <svg xmlns=\"http://www.w3.org/2000/svg\" height=\"24px\"viewBox=\"0 0 24 24\"\n",
       "       width=\"24px\">\n",
       "    <path d=\"M0 0h24v24H0V0z\" fill=\"none\"/>\n",
       "    <path d=\"M18.56 5.44l.94 2.06.94-2.06 2.06-.94-2.06-.94-.94-2.06-.94 2.06-2.06.94zm-11 1L8.5 8.5l.94-2.06 2.06-.94-2.06-.94L8.5 2.5l-.94 2.06-2.06.94zm10 10l.94 2.06.94-2.06 2.06-.94-2.06-.94-.94-2.06-.94 2.06-2.06.94z\"/><path d=\"M17.41 7.96l-1.37-1.37c-.4-.4-.92-.59-1.43-.59-.52 0-1.04.2-1.43.59L10.3 9.45l-7.72 7.72c-.78.78-.78 2.05 0 2.83L4 21.41c.39.39.9.59 1.41.59.51 0 1.02-.2 1.41-.59l7.78-7.78 2.81-2.81c.8-.78.8-2.07 0-2.86zM5.41 20L4 18.59l7.72-7.72 1.47 1.35L5.41 20z\"/>\n",
       "  </svg>\n",
       "      </button>\n",
       "      \n",
       "  <style>\n",
       "    .colab-df-container {\n",
       "      display:flex;\n",
       "      flex-wrap:wrap;\n",
       "      gap: 12px;\n",
       "    }\n",
       "\n",
       "    .colab-df-convert {\n",
       "      background-color: #E8F0FE;\n",
       "      border: none;\n",
       "      border-radius: 50%;\n",
       "      cursor: pointer;\n",
       "      display: none;\n",
       "      fill: #1967D2;\n",
       "      height: 32px;\n",
       "      padding: 0 0 0 0;\n",
       "      width: 32px;\n",
       "    }\n",
       "\n",
       "    .colab-df-convert:hover {\n",
       "      background-color: #E2EBFA;\n",
       "      box-shadow: 0px 1px 2px rgba(60, 64, 67, 0.3), 0px 1px 3px 1px rgba(60, 64, 67, 0.15);\n",
       "      fill: #174EA6;\n",
       "    }\n",
       "\n",
       "    [theme=dark] .colab-df-convert {\n",
       "      background-color: #3B4455;\n",
       "      fill: #D2E3FC;\n",
       "    }\n",
       "\n",
       "    [theme=dark] .colab-df-convert:hover {\n",
       "      background-color: #434B5C;\n",
       "      box-shadow: 0px 1px 3px 1px rgba(0, 0, 0, 0.15);\n",
       "      filter: drop-shadow(0px 1px 2px rgba(0, 0, 0, 0.3));\n",
       "      fill: #FFFFFF;\n",
       "    }\n",
       "  </style>\n",
       "\n",
       "      <script>\n",
       "        const buttonEl =\n",
       "          document.querySelector('#df-ef8372b0-8eb0-48a9-8a59-221538c669cf button.colab-df-convert');\n",
       "        buttonEl.style.display =\n",
       "          google.colab.kernel.accessAllowed ? 'block' : 'none';\n",
       "\n",
       "        async function convertToInteractive(key) {\n",
       "          const element = document.querySelector('#df-ef8372b0-8eb0-48a9-8a59-221538c669cf');\n",
       "          const dataTable =\n",
       "            await google.colab.kernel.invokeFunction('convertToInteractive',\n",
       "                                                     [key], {});\n",
       "          if (!dataTable) return;\n",
       "\n",
       "          const docLinkHtml = 'Like what you see? Visit the ' +\n",
       "            '<a target=\"_blank\" href=https://colab.research.google.com/notebooks/data_table.ipynb>data table notebook</a>'\n",
       "            + ' to learn more about interactive tables.';\n",
       "          element.innerHTML = '';\n",
       "          dataTable['output_type'] = 'display_data';\n",
       "          await google.colab.output.renderOutput(dataTable, element);\n",
       "          const docLink = document.createElement('div');\n",
       "          docLink.innerHTML = docLinkHtml;\n",
       "          element.appendChild(docLink);\n",
       "        }\n",
       "      </script>\n",
       "    </div>\n",
       "  </div>\n",
       "  "
      ],
      "text/plain": [
       "                                 Original summaries   \\\n",
       "0  Original Review: This cable does the job but b...   \n",
       "1  At the time of writing this review (9-9-2014) ...   \n",
       "2  I never thought to check what keys are and are...   \n",
       "3  Several things I like about this helmet.  1. C...   \n",
       "4  I was not very impressed with these books, tho...   \n",
       "\n",
       "                                     Human Summaries  \n",
       "0  This cable does the job and is sturdy but is t...  \n",
       "1  I have been using this KVM that I purchased on...  \n",
       "2  I never had to check the keys on the keyboard ...  \n",
       "3  I like the color of this helmet, the easy ratc...  \n",
       "4  I was not impressed with these books although ...  "
      ]
     },
     "execution_count": 35,
     "metadata": {},
     "output_type": "execute_result"
    }
   ],
   "source": [
    "electronics.head()"
   ]
  },
  {
   "cell_type": "code",
   "execution_count": 43,
   "metadata": {
    "id": "ZIai5Q948NHx"
   },
   "outputs": [],
   "source": [
    "count = 0\n",
    "for index,row in food_df.iterrows():\n",
    "  string = row['Review']\n",
    "  index = t5.index[t5['Review']==string].tolist()\n",
    "  if len(index) == 0:\n",
    "    continue\n",
    "  t5_rogue.loc[count,'Reviews'] = string\n",
    "  t5_rogue.loc[count,'Human Summary'] = row['Human_summary']\n",
    "  summary = t5.loc[index[0],'Summaries']\n",
    "  t5_rogue.loc[count,'Machine Summary'] = summary\n",
    "  count = count+1"
   ]
  },
  {
   "cell_type": "code",
   "execution_count": 44,
   "metadata": {
    "colab": {
     "base_uri": "https://localhost:8080/"
    },
    "id": "TZmWKLG4FbVw",
    "outputId": "fcf85ea4-699b-429d-eade-fb3fb9c2e3ef"
   },
   "outputs": [
    {
     "data": {
      "text/plain": [
       "25"
      ]
     },
     "execution_count": 44,
     "metadata": {},
     "output_type": "execute_result"
    }
   ],
   "source": [
    "count"
   ]
  },
  {
   "cell_type": "code",
   "execution_count": 45,
   "metadata": {
    "id": "cPzP66ajp7Z5"
   },
   "outputs": [],
   "source": [
    "count = 26\n",
    "for index,row in movies.iterrows():\n",
    "  string = row['Review']\n",
    "  index = t5.index[t5['Review']==string].tolist()\n",
    "  if len(index) == 0:\n",
    "    continue\n",
    "  t5_rogue.loc[count,'Reviews'] = string\n",
    "  t5_rogue.loc[count,'Human Summary'] = row['Gold Summary']\n",
    "  summary = t5.loc[index[0],'Summaries']\n",
    "  t5_rogue.loc[count,'Machine Summary'] = summary\n",
    "  count = count+1"
   ]
  },
  {
   "cell_type": "code",
   "execution_count": 51,
   "metadata": {
    "colab": {
     "base_uri": "https://localhost:8080/",
     "height": 221
    },
    "id": "3qv2bXvzqZpK",
    "outputId": "45e41e8c-f88d-49e7-d396-b60cd4ce926c"
   },
   "outputs": [
    {
     "data": {
      "text/html": [
       "\n",
       "  <div id=\"df-aef79ef5-41ac-407e-955b-17a0663ff278\">\n",
       "    <div class=\"colab-df-container\">\n",
       "      <div>\n",
       "<style scoped>\n",
       "    .dataframe tbody tr th:only-of-type {\n",
       "        vertical-align: middle;\n",
       "    }\n",
       "\n",
       "    .dataframe tbody tr th {\n",
       "        vertical-align: top;\n",
       "    }\n",
       "\n",
       "    .dataframe thead th {\n",
       "        text-align: right;\n",
       "    }\n",
       "</style>\n",
       "<table border=\"1\" class=\"dataframe\">\n",
       "  <thead>\n",
       "    <tr style=\"text-align: right;\">\n",
       "      <th></th>\n",
       "      <th>Original summaries</th>\n",
       "      <th>Human Summaries</th>\n",
       "    </tr>\n",
       "  </thead>\n",
       "  <tbody>\n",
       "    <tr>\n",
       "      <th>0</th>\n",
       "      <td>Original Review: This cable does the job but b...</td>\n",
       "      <td>This cable does the job and is sturdy but is t...</td>\n",
       "    </tr>\n",
       "    <tr>\n",
       "      <th>1</th>\n",
       "      <td>At the time of writing this review (9-9-2014) ...</td>\n",
       "      <td>I have been using this KVM that I purchased on...</td>\n",
       "    </tr>\n",
       "    <tr>\n",
       "      <th>2</th>\n",
       "      <td>I never thought to check what keys are and are...</td>\n",
       "      <td>I never had to check the keys on the keyboard ...</td>\n",
       "    </tr>\n",
       "    <tr>\n",
       "      <th>3</th>\n",
       "      <td>Several things I like about this helmet.  1. C...</td>\n",
       "      <td>I like the color of this helmet, the easy ratc...</td>\n",
       "    </tr>\n",
       "    <tr>\n",
       "      <th>4</th>\n",
       "      <td>I was not very impressed with these books, tho...</td>\n",
       "      <td>I was not impressed with these books although ...</td>\n",
       "    </tr>\n",
       "  </tbody>\n",
       "</table>\n",
       "</div>\n",
       "      <button class=\"colab-df-convert\" onclick=\"convertToInteractive('df-aef79ef5-41ac-407e-955b-17a0663ff278')\"\n",
       "              title=\"Convert this dataframe to an interactive table.\"\n",
       "              style=\"display:none;\">\n",
       "        \n",
       "  <svg xmlns=\"http://www.w3.org/2000/svg\" height=\"24px\"viewBox=\"0 0 24 24\"\n",
       "       width=\"24px\">\n",
       "    <path d=\"M0 0h24v24H0V0z\" fill=\"none\"/>\n",
       "    <path d=\"M18.56 5.44l.94 2.06.94-2.06 2.06-.94-2.06-.94-.94-2.06-.94 2.06-2.06.94zm-11 1L8.5 8.5l.94-2.06 2.06-.94-2.06-.94L8.5 2.5l-.94 2.06-2.06.94zm10 10l.94 2.06.94-2.06 2.06-.94-2.06-.94-.94-2.06-.94 2.06-2.06.94z\"/><path d=\"M17.41 7.96l-1.37-1.37c-.4-.4-.92-.59-1.43-.59-.52 0-1.04.2-1.43.59L10.3 9.45l-7.72 7.72c-.78.78-.78 2.05 0 2.83L4 21.41c.39.39.9.59 1.41.59.51 0 1.02-.2 1.41-.59l7.78-7.78 2.81-2.81c.8-.78.8-2.07 0-2.86zM5.41 20L4 18.59l7.72-7.72 1.47 1.35L5.41 20z\"/>\n",
       "  </svg>\n",
       "      </button>\n",
       "      \n",
       "  <style>\n",
       "    .colab-df-container {\n",
       "      display:flex;\n",
       "      flex-wrap:wrap;\n",
       "      gap: 12px;\n",
       "    }\n",
       "\n",
       "    .colab-df-convert {\n",
       "      background-color: #E8F0FE;\n",
       "      border: none;\n",
       "      border-radius: 50%;\n",
       "      cursor: pointer;\n",
       "      display: none;\n",
       "      fill: #1967D2;\n",
       "      height: 32px;\n",
       "      padding: 0 0 0 0;\n",
       "      width: 32px;\n",
       "    }\n",
       "\n",
       "    .colab-df-convert:hover {\n",
       "      background-color: #E2EBFA;\n",
       "      box-shadow: 0px 1px 2px rgba(60, 64, 67, 0.3), 0px 1px 3px 1px rgba(60, 64, 67, 0.15);\n",
       "      fill: #174EA6;\n",
       "    }\n",
       "\n",
       "    [theme=dark] .colab-df-convert {\n",
       "      background-color: #3B4455;\n",
       "      fill: #D2E3FC;\n",
       "    }\n",
       "\n",
       "    [theme=dark] .colab-df-convert:hover {\n",
       "      background-color: #434B5C;\n",
       "      box-shadow: 0px 1px 3px 1px rgba(0, 0, 0, 0.15);\n",
       "      filter: drop-shadow(0px 1px 2px rgba(0, 0, 0, 0.3));\n",
       "      fill: #FFFFFF;\n",
       "    }\n",
       "  </style>\n",
       "\n",
       "      <script>\n",
       "        const buttonEl =\n",
       "          document.querySelector('#df-aef79ef5-41ac-407e-955b-17a0663ff278 button.colab-df-convert');\n",
       "        buttonEl.style.display =\n",
       "          google.colab.kernel.accessAllowed ? 'block' : 'none';\n",
       "\n",
       "        async function convertToInteractive(key) {\n",
       "          const element = document.querySelector('#df-aef79ef5-41ac-407e-955b-17a0663ff278');\n",
       "          const dataTable =\n",
       "            await google.colab.kernel.invokeFunction('convertToInteractive',\n",
       "                                                     [key], {});\n",
       "          if (!dataTable) return;\n",
       "\n",
       "          const docLinkHtml = 'Like what you see? Visit the ' +\n",
       "            '<a target=\"_blank\" href=https://colab.research.google.com/notebooks/data_table.ipynb>data table notebook</a>'\n",
       "            + ' to learn more about interactive tables.';\n",
       "          element.innerHTML = '';\n",
       "          dataTable['output_type'] = 'display_data';\n",
       "          await google.colab.output.renderOutput(dataTable, element);\n",
       "          const docLink = document.createElement('div');\n",
       "          docLink.innerHTML = docLinkHtml;\n",
       "          element.appendChild(docLink);\n",
       "        }\n",
       "      </script>\n",
       "    </div>\n",
       "  </div>\n",
       "  "
      ],
      "text/plain": [
       "                                 Original summaries   \\\n",
       "0  Original Review: This cable does the job but b...   \n",
       "1  At the time of writing this review (9-9-2014) ...   \n",
       "2  I never thought to check what keys are and are...   \n",
       "3  Several things I like about this helmet.  1. C...   \n",
       "4  I was not very impressed with these books, tho...   \n",
       "\n",
       "                                     Human Summaries  \n",
       "0  This cable does the job and is sturdy but is t...  \n",
       "1  I have been using this KVM that I purchased on...  \n",
       "2  I never had to check the keys on the keyboard ...  \n",
       "3  I like the color of this helmet, the easy ratc...  \n",
       "4  I was not impressed with these books although ...  "
      ]
     },
     "execution_count": 51,
     "metadata": {},
     "output_type": "execute_result"
    }
   ],
   "source": [
    "electronics.head()"
   ]
  },
  {
   "cell_type": "code",
   "execution_count": 60,
   "metadata": {
    "id": "JeriKXKEslU4"
   },
   "outputs": [],
   "source": [
    "electronics = electronics.rename(columns={'Original summaries': 'Review', 'Human Summaries': 'Summary'})"
   ]
  },
  {
   "cell_type": "code",
   "execution_count": 96,
   "metadata": {
    "colab": {
     "base_uri": "https://localhost:8080/",
     "height": 221
    },
    "id": "raNoG8N0suc3",
    "outputId": "0dd5e902-ab96-4326-c600-709b9ab4bd03"
   },
   "outputs": [
    {
     "data": {
      "text/html": [
       "\n",
       "  <div id=\"df-a48f7981-5112-493d-b2c1-8fec7657f41a\">\n",
       "    <div class=\"colab-df-container\">\n",
       "      <div>\n",
       "<style scoped>\n",
       "    .dataframe tbody tr th:only-of-type {\n",
       "        vertical-align: middle;\n",
       "    }\n",
       "\n",
       "    .dataframe tbody tr th {\n",
       "        vertical-align: top;\n",
       "    }\n",
       "\n",
       "    .dataframe thead th {\n",
       "        text-align: right;\n",
       "    }\n",
       "</style>\n",
       "<table border=\"1\" class=\"dataframe\">\n",
       "  <thead>\n",
       "    <tr style=\"text-align: right;\">\n",
       "      <th></th>\n",
       "      <th>Original summaries</th>\n",
       "      <th>Summary</th>\n",
       "    </tr>\n",
       "  </thead>\n",
       "  <tbody>\n",
       "    <tr>\n",
       "      <th>0</th>\n",
       "      <td>Original Review: This cable does the job but b...</td>\n",
       "      <td>This cable does the job and is sturdy but is t...</td>\n",
       "    </tr>\n",
       "    <tr>\n",
       "      <th>1</th>\n",
       "      <td>At the time of writing this review (9-9-2014) ...</td>\n",
       "      <td>I have been using this KVM that I purchased on...</td>\n",
       "    </tr>\n",
       "    <tr>\n",
       "      <th>2</th>\n",
       "      <td>I never thought to check what keys are and are...</td>\n",
       "      <td>I never had to check the keys on the keyboard ...</td>\n",
       "    </tr>\n",
       "    <tr>\n",
       "      <th>3</th>\n",
       "      <td>Several things I like about this helmet.  1. C...</td>\n",
       "      <td>I like the color of this helmet, the easy ratc...</td>\n",
       "    </tr>\n",
       "    <tr>\n",
       "      <th>4</th>\n",
       "      <td>I was not very impressed with these books, tho...</td>\n",
       "      <td>I was not impressed with these books although ...</td>\n",
       "    </tr>\n",
       "  </tbody>\n",
       "</table>\n",
       "</div>\n",
       "      <button class=\"colab-df-convert\" onclick=\"convertToInteractive('df-a48f7981-5112-493d-b2c1-8fec7657f41a')\"\n",
       "              title=\"Convert this dataframe to an interactive table.\"\n",
       "              style=\"display:none;\">\n",
       "        \n",
       "  <svg xmlns=\"http://www.w3.org/2000/svg\" height=\"24px\"viewBox=\"0 0 24 24\"\n",
       "       width=\"24px\">\n",
       "    <path d=\"M0 0h24v24H0V0z\" fill=\"none\"/>\n",
       "    <path d=\"M18.56 5.44l.94 2.06.94-2.06 2.06-.94-2.06-.94-.94-2.06-.94 2.06-2.06.94zm-11 1L8.5 8.5l.94-2.06 2.06-.94-2.06-.94L8.5 2.5l-.94 2.06-2.06.94zm10 10l.94 2.06.94-2.06 2.06-.94-2.06-.94-.94-2.06-.94 2.06-2.06.94z\"/><path d=\"M17.41 7.96l-1.37-1.37c-.4-.4-.92-.59-1.43-.59-.52 0-1.04.2-1.43.59L10.3 9.45l-7.72 7.72c-.78.78-.78 2.05 0 2.83L4 21.41c.39.39.9.59 1.41.59.51 0 1.02-.2 1.41-.59l7.78-7.78 2.81-2.81c.8-.78.8-2.07 0-2.86zM5.41 20L4 18.59l7.72-7.72 1.47 1.35L5.41 20z\"/>\n",
       "  </svg>\n",
       "      </button>\n",
       "      \n",
       "  <style>\n",
       "    .colab-df-container {\n",
       "      display:flex;\n",
       "      flex-wrap:wrap;\n",
       "      gap: 12px;\n",
       "    }\n",
       "\n",
       "    .colab-df-convert {\n",
       "      background-color: #E8F0FE;\n",
       "      border: none;\n",
       "      border-radius: 50%;\n",
       "      cursor: pointer;\n",
       "      display: none;\n",
       "      fill: #1967D2;\n",
       "      height: 32px;\n",
       "      padding: 0 0 0 0;\n",
       "      width: 32px;\n",
       "    }\n",
       "\n",
       "    .colab-df-convert:hover {\n",
       "      background-color: #E2EBFA;\n",
       "      box-shadow: 0px 1px 2px rgba(60, 64, 67, 0.3), 0px 1px 3px 1px rgba(60, 64, 67, 0.15);\n",
       "      fill: #174EA6;\n",
       "    }\n",
       "\n",
       "    [theme=dark] .colab-df-convert {\n",
       "      background-color: #3B4455;\n",
       "      fill: #D2E3FC;\n",
       "    }\n",
       "\n",
       "    [theme=dark] .colab-df-convert:hover {\n",
       "      background-color: #434B5C;\n",
       "      box-shadow: 0px 1px 3px 1px rgba(0, 0, 0, 0.15);\n",
       "      filter: drop-shadow(0px 1px 2px rgba(0, 0, 0, 0.3));\n",
       "      fill: #FFFFFF;\n",
       "    }\n",
       "  </style>\n",
       "\n",
       "      <script>\n",
       "        const buttonEl =\n",
       "          document.querySelector('#df-a48f7981-5112-493d-b2c1-8fec7657f41a button.colab-df-convert');\n",
       "        buttonEl.style.display =\n",
       "          google.colab.kernel.accessAllowed ? 'block' : 'none';\n",
       "\n",
       "        async function convertToInteractive(key) {\n",
       "          const element = document.querySelector('#df-a48f7981-5112-493d-b2c1-8fec7657f41a');\n",
       "          const dataTable =\n",
       "            await google.colab.kernel.invokeFunction('convertToInteractive',\n",
       "                                                     [key], {});\n",
       "          if (!dataTable) return;\n",
       "\n",
       "          const docLinkHtml = 'Like what you see? Visit the ' +\n",
       "            '<a target=\"_blank\" href=https://colab.research.google.com/notebooks/data_table.ipynb>data table notebook</a>'\n",
       "            + ' to learn more about interactive tables.';\n",
       "          element.innerHTML = '';\n",
       "          dataTable['output_type'] = 'display_data';\n",
       "          await google.colab.output.renderOutput(dataTable, element);\n",
       "          const docLink = document.createElement('div');\n",
       "          docLink.innerHTML = docLinkHtml;\n",
       "          element.appendChild(docLink);\n",
       "        }\n",
       "      </script>\n",
       "    </div>\n",
       "  </div>\n",
       "  "
      ],
      "text/plain": [
       "                                 Original summaries   \\\n",
       "0  Original Review: This cable does the job but b...   \n",
       "1  At the time of writing this review (9-9-2014) ...   \n",
       "2  I never thought to check what keys are and are...   \n",
       "3  Several things I like about this helmet.  1. C...   \n",
       "4  I was not very impressed with these books, tho...   \n",
       "\n",
       "                                             Summary  \n",
       "0  This cable does the job and is sturdy but is t...  \n",
       "1  I have been using this KVM that I purchased on...  \n",
       "2  I never had to check the keys on the keyboard ...  \n",
       "3  I like the color of this helmet, the easy ratc...  \n",
       "4  I was not impressed with these books although ...  "
      ]
     },
     "execution_count": 96,
     "metadata": {},
     "output_type": "execute_result"
    }
   ],
   "source": [
    "electronics.head()"
   ]
  },
  {
   "cell_type": "code",
   "execution_count": 97,
   "metadata": {
    "id": "D_IlDtQ-qavh"
   },
   "outputs": [],
   "source": [
    "count = 75\n",
    "for index,row in electronics.iterrows():\n",
    "  string = row['Original summaries ']\n",
    "  index = t5.index[t5['Review']==string].tolist()\n",
    "  if len(index) == 0:\n",
    "    continue\n",
    "  t5_rogue.loc[count,'Reviews'] = string\n",
    "  t5_rogue.loc[count,'Human Summary'] = row['Summary']\n",
    "  summary = t5.loc[index[0],'Summaries']\n",
    "  t5_rogue.loc[count,'Machine Summary'] = summary\n",
    "  count = count+1"
   ]
  },
  {
   "cell_type": "code",
   "execution_count": 66,
   "metadata": {
    "id": "8R1m80RQ_oci"
   },
   "outputs": [],
   "source": [
    "bart_human = pd.read_csv('data/ROUGE/bart_human_summaries.csv')\n",
    "bert_human = pd.read_csv('data/ROUGE/bert_human_summaries.csv')"
   ]
  },
  {
   "cell_type": "code",
   "execution_count": 70,
   "metadata": {
    "id": "U2V_w8mQtm1N"
   },
   "outputs": [],
   "source": [
    "count = 51\n",
    "for index,row in bart_human.iterrows():\n",
    "  string = row['Review']\n",
    "  index = t5.index[t5['Review']==string].tolist()\n",
    "  if len(index) == 0:\n",
    "    continue\n",
    "  t5_rogue.loc[count,'Reviews'] = string\n",
    "  t5_rogue.loc[count,'Human Summary'] = row['Human_Summary']\n",
    "  summary = t5.loc[index[0],'Summaries']\n",
    "  t5_rogue.loc[count,'Machine Summary'] = summary\n",
    "  count = count+1"
   ]
  },
  {
   "cell_type": "code",
   "execution_count": 74,
   "metadata": {
    "colab": {
     "base_uri": "https://localhost:8080/",
     "height": 221
    },
    "id": "Lc2SHYAvt_Yd",
    "outputId": "06da8436-d8f7-4e64-86f9-8102c86c3d34"
   },
   "outputs": [
    {
     "data": {
      "text/html": [
       "\n",
       "  <div id=\"df-a35a6d83-bdee-4686-846e-0d9509f9abee\">\n",
       "    <div class=\"colab-df-container\">\n",
       "      <div>\n",
       "<style scoped>\n",
       "    .dataframe tbody tr th:only-of-type {\n",
       "        vertical-align: middle;\n",
       "    }\n",
       "\n",
       "    .dataframe tbody tr th {\n",
       "        vertical-align: top;\n",
       "    }\n",
       "\n",
       "    .dataframe thead th {\n",
       "        text-align: right;\n",
       "    }\n",
       "</style>\n",
       "<table border=\"1\" class=\"dataframe\">\n",
       "  <thead>\n",
       "    <tr style=\"text-align: right;\">\n",
       "      <th></th>\n",
       "      <th>Review</th>\n",
       "      <th>Summary</th>\n",
       "      <th>Topic</th>\n",
       "    </tr>\n",
       "  </thead>\n",
       "  <tbody>\n",
       "    <tr>\n",
       "      <th>0</th>\n",
       "      <td>What first caught my attention of these bars w...</td>\n",
       "      <td>This is the first time I have tried a date bar...</td>\n",
       "      <td>Food</td>\n",
       "    </tr>\n",
       "    <tr>\n",
       "      <th>1</th>\n",
       "      <td>Let me first tell you that before I was turned...</td>\n",
       "      <td>I recently got my hands on a tin of Caramel Gr...</td>\n",
       "      <td>Food</td>\n",
       "    </tr>\n",
       "    <tr>\n",
       "      <th>2</th>\n",
       "      <td>I find this Peach Green Tea to be the BEST and...</td>\n",
       "      <td>Bigelow's Peach Green Tea is one of the best t...</td>\n",
       "      <td>Food</td>\n",
       "    </tr>\n",
       "    <tr>\n",
       "      <th>3</th>\n",
       "      <td>My husband and I are not big coffee drinkers. ...</td>\n",
       "      <td>Coffee is one of my favourite things to drink ...</td>\n",
       "      <td>Food</td>\n",
       "    </tr>\n",
       "    <tr>\n",
       "      <th>4</th>\n",
       "      <td>I recently bought a 50 pack of the Tully's Ita...</td>\n",
       "      <td>The Tully's Italian Roast K-cups are a great w...</td>\n",
       "      <td>Food</td>\n",
       "    </tr>\n",
       "  </tbody>\n",
       "</table>\n",
       "</div>\n",
       "      <button class=\"colab-df-convert\" onclick=\"convertToInteractive('df-a35a6d83-bdee-4686-846e-0d9509f9abee')\"\n",
       "              title=\"Convert this dataframe to an interactive table.\"\n",
       "              style=\"display:none;\">\n",
       "        \n",
       "  <svg xmlns=\"http://www.w3.org/2000/svg\" height=\"24px\"viewBox=\"0 0 24 24\"\n",
       "       width=\"24px\">\n",
       "    <path d=\"M0 0h24v24H0V0z\" fill=\"none\"/>\n",
       "    <path d=\"M18.56 5.44l.94 2.06.94-2.06 2.06-.94-2.06-.94-.94-2.06-.94 2.06-2.06.94zm-11 1L8.5 8.5l.94-2.06 2.06-.94-2.06-.94L8.5 2.5l-.94 2.06-2.06.94zm10 10l.94 2.06.94-2.06 2.06-.94-2.06-.94-.94-2.06-.94 2.06-2.06.94z\"/><path d=\"M17.41 7.96l-1.37-1.37c-.4-.4-.92-.59-1.43-.59-.52 0-1.04.2-1.43.59L10.3 9.45l-7.72 7.72c-.78.78-.78 2.05 0 2.83L4 21.41c.39.39.9.59 1.41.59.51 0 1.02-.2 1.41-.59l7.78-7.78 2.81-2.81c.8-.78.8-2.07 0-2.86zM5.41 20L4 18.59l7.72-7.72 1.47 1.35L5.41 20z\"/>\n",
       "  </svg>\n",
       "      </button>\n",
       "      \n",
       "  <style>\n",
       "    .colab-df-container {\n",
       "      display:flex;\n",
       "      flex-wrap:wrap;\n",
       "      gap: 12px;\n",
       "    }\n",
       "\n",
       "    .colab-df-convert {\n",
       "      background-color: #E8F0FE;\n",
       "      border: none;\n",
       "      border-radius: 50%;\n",
       "      cursor: pointer;\n",
       "      display: none;\n",
       "      fill: #1967D2;\n",
       "      height: 32px;\n",
       "      padding: 0 0 0 0;\n",
       "      width: 32px;\n",
       "    }\n",
       "\n",
       "    .colab-df-convert:hover {\n",
       "      background-color: #E2EBFA;\n",
       "      box-shadow: 0px 1px 2px rgba(60, 64, 67, 0.3), 0px 1px 3px 1px rgba(60, 64, 67, 0.15);\n",
       "      fill: #174EA6;\n",
       "    }\n",
       "\n",
       "    [theme=dark] .colab-df-convert {\n",
       "      background-color: #3B4455;\n",
       "      fill: #D2E3FC;\n",
       "    }\n",
       "\n",
       "    [theme=dark] .colab-df-convert:hover {\n",
       "      background-color: #434B5C;\n",
       "      box-shadow: 0px 1px 3px 1px rgba(0, 0, 0, 0.15);\n",
       "      filter: drop-shadow(0px 1px 2px rgba(0, 0, 0, 0.3));\n",
       "      fill: #FFFFFF;\n",
       "    }\n",
       "  </style>\n",
       "\n",
       "      <script>\n",
       "        const buttonEl =\n",
       "          document.querySelector('#df-a35a6d83-bdee-4686-846e-0d9509f9abee button.colab-df-convert');\n",
       "        buttonEl.style.display =\n",
       "          google.colab.kernel.accessAllowed ? 'block' : 'none';\n",
       "\n",
       "        async function convertToInteractive(key) {\n",
       "          const element = document.querySelector('#df-a35a6d83-bdee-4686-846e-0d9509f9abee');\n",
       "          const dataTable =\n",
       "            await google.colab.kernel.invokeFunction('convertToInteractive',\n",
       "                                                     [key], {});\n",
       "          if (!dataTable) return;\n",
       "\n",
       "          const docLinkHtml = 'Like what you see? Visit the ' +\n",
       "            '<a target=\"_blank\" href=https://colab.research.google.com/notebooks/data_table.ipynb>data table notebook</a>'\n",
       "            + ' to learn more about interactive tables.';\n",
       "          element.innerHTML = '';\n",
       "          dataTable['output_type'] = 'display_data';\n",
       "          await google.colab.output.renderOutput(dataTable, element);\n",
       "          const docLink = document.createElement('div');\n",
       "          docLink.innerHTML = docLinkHtml;\n",
       "          element.appendChild(docLink);\n",
       "        }\n",
       "      </script>\n",
       "    </div>\n",
       "  </div>\n",
       "  "
      ],
      "text/plain": [
       "                                              Review  \\\n",
       "0  What first caught my attention of these bars w...   \n",
       "1  Let me first tell you that before I was turned...   \n",
       "2  I find this Peach Green Tea to be the BEST and...   \n",
       "3  My husband and I are not big coffee drinkers. ...   \n",
       "4  I recently bought a 50 pack of the Tully's Ita...   \n",
       "\n",
       "                                             Summary Topic  \n",
       "0  This is the first time I have tried a date bar...  Food  \n",
       "1  I recently got my hands on a tin of Caramel Gr...  Food  \n",
       "2  Bigelow's Peach Green Tea is one of the best t...  Food  \n",
       "3  Coffee is one of my favourite things to drink ...  Food  \n",
       "4  The Tully's Italian Roast K-cups are a great w...  Food  "
      ]
     },
     "execution_count": 74,
     "metadata": {},
     "output_type": "execute_result"
    }
   ],
   "source": [
    "bart.head()"
   ]
  },
  {
   "cell_type": "code",
   "execution_count": 76,
   "metadata": {
    "id": "MAXmjyT-YHJ6"
   },
   "outputs": [],
   "source": [
    "count = 0\n",
    "for index,row in bart_human.iterrows():\n",
    "  string = row['Review']\n",
    "  index = bart.index[bart['Review']==string].tolist()\n",
    "  if len(index) == 0:\n",
    "    continue\n",
    "  bart_rogue.loc[count,'Reviews'] = string\n",
    "  bart_rogue.loc[count,'Human Summary'] = row['Human_Summary']\n",
    "  summary = bart.loc[index[0],'Summary']\n",
    "  bart_rogue.loc[count,'Machine Summary'] = summary\n",
    "  count = count+1"
   ]
  },
  {
   "cell_type": "code",
   "execution_count": 77,
   "metadata": {
    "colab": {
     "base_uri": "https://localhost:8080/"
    },
    "id": "0_0x-__Qub1u",
    "outputId": "12525c88-0008-44e2-f4ef-4dd261ce90ee"
   },
   "outputs": [
    {
     "data": {
      "text/plain": [
       "25"
      ]
     },
     "execution_count": 77,
     "metadata": {},
     "output_type": "execute_result"
    }
   ],
   "source": [
    "count"
   ]
  },
  {
   "cell_type": "code",
   "execution_count": 79,
   "metadata": {
    "id": "x1FOVk83t-CJ"
   },
   "outputs": [],
   "source": [
    "count = 26\n",
    "for index,row in food_df.iterrows():\n",
    "  string = row['Review']\n",
    "  index = bart.index[bart['Review']==string].tolist()\n",
    "  if len(index) == 0:\n",
    "    continue\n",
    "  bart_rogue.loc[count,'Reviews'] = string\n",
    "  bart_rogue.loc[count,'Human Summary'] = row['Human_summary']\n",
    "  summary = bart.loc[index[0],'Summary']\n",
    "  bart_rogue.loc[count,'Machine Summary'] = summary\n",
    "  count = count+1"
   ]
  },
  {
   "cell_type": "code",
   "execution_count": 88,
   "metadata": {
    "id": "BRRn-Q_Ft-dW"
   },
   "outputs": [],
   "source": [
    "count = 52\n",
    "for index,row in movies.iterrows():\n",
    "  string = row['Review']\n",
    "  index = bart.index[bart['Review']==string].tolist()\n",
    "  if len(index) == 0:\n",
    "    continue\n",
    "  bart_rogue.loc[count,'Reviews'] = string\n",
    "  bart_rogue.loc[count,'Human Summary'] = row['Gold Summary']\n",
    "  summary = bart.loc[index[0],'Summary']\n",
    "  bart_rogue.loc[count,'Machine Summary'] = summary\n",
    "  count = count+1"
   ]
  },
  {
   "cell_type": "code",
   "execution_count": 100,
   "metadata": {
    "id": "umhb_qmkYmZ3"
   },
   "outputs": [],
   "source": [
    "count = 75\n",
    "for index,row in electronics.iterrows():\n",
    "  string = row['Original summaries ']\n",
    "  index = bart.index[bart['Review']==string].tolist()\n",
    "  if len(index) == 0:\n",
    "    continue\n",
    "  bart_rogue.loc[count,'Reviews'] = string\n",
    "  bart_rogue.loc[count,'Human Summary'] = row['Summary']\n",
    "  summary = bart.loc[index[0],'Summary']\n",
    "  bart_rogue.loc[count,'Machine Summary'] = summary\n",
    "  count = count+1"
   ]
  },
  {
   "cell_type": "code",
   "execution_count": 102,
   "metadata": {
    "colab": {
     "base_uri": "https://localhost:8080/",
     "height": 221
    },
    "id": "tgoQEHHXw-Qe",
    "outputId": "b659720d-f474-4ff7-8cba-2654705259a9"
   },
   "outputs": [
    {
     "data": {
      "text/html": [
       "\n",
       "  <div id=\"df-3e4aec41-3a3a-4f1e-b398-8978bc886518\">\n",
       "    <div class=\"colab-df-container\">\n",
       "      <div>\n",
       "<style scoped>\n",
       "    .dataframe tbody tr th:only-of-type {\n",
       "        vertical-align: middle;\n",
       "    }\n",
       "\n",
       "    .dataframe tbody tr th {\n",
       "        vertical-align: top;\n",
       "    }\n",
       "\n",
       "    .dataframe thead th {\n",
       "        text-align: right;\n",
       "    }\n",
       "</style>\n",
       "<table border=\"1\" class=\"dataframe\">\n",
       "  <thead>\n",
       "    <tr style=\"text-align: right;\">\n",
       "      <th></th>\n",
       "      <th>Review</th>\n",
       "      <th>Summary</th>\n",
       "      <th>Topic</th>\n",
       "    </tr>\n",
       "  </thead>\n",
       "  <tbody>\n",
       "    <tr>\n",
       "      <th>0</th>\n",
       "      <td>What first caught my attention of these bars w...</td>\n",
       "      <td>What first caught my attention of these bars w...</td>\n",
       "      <td>Food</td>\n",
       "    </tr>\n",
       "    <tr>\n",
       "      <th>1</th>\n",
       "      <td>Let me first tell you that before I was turned...</td>\n",
       "      <td>Without it, you risk the chance of having clum...</td>\n",
       "      <td>Food</td>\n",
       "    </tr>\n",
       "    <tr>\n",
       "      <th>2</th>\n",
       "      <td>I find this Peach Green Tea to be the BEST and...</td>\n",
       "      <td>I find this Peach Green Tea to be the BEST and...</td>\n",
       "      <td>Food</td>\n",
       "    </tr>\n",
       "    <tr>\n",
       "      <th>3</th>\n",
       "      <td>My husband and I are not big coffee drinkers. ...</td>\n",
       "      <td>We are both watching our weight and find this ...</td>\n",
       "      <td>Food</td>\n",
       "    </tr>\n",
       "    <tr>\n",
       "      <th>4</th>\n",
       "      <td>I recently bought a 50 pack of the Tully's Ita...</td>\n",
       "      <td>My recommendation, buy this and enjoy great ta...</td>\n",
       "      <td>Food</td>\n",
       "    </tr>\n",
       "  </tbody>\n",
       "</table>\n",
       "</div>\n",
       "      <button class=\"colab-df-convert\" onclick=\"convertToInteractive('df-3e4aec41-3a3a-4f1e-b398-8978bc886518')\"\n",
       "              title=\"Convert this dataframe to an interactive table.\"\n",
       "              style=\"display:none;\">\n",
       "        \n",
       "  <svg xmlns=\"http://www.w3.org/2000/svg\" height=\"24px\"viewBox=\"0 0 24 24\"\n",
       "       width=\"24px\">\n",
       "    <path d=\"M0 0h24v24H0V0z\" fill=\"none\"/>\n",
       "    <path d=\"M18.56 5.44l.94 2.06.94-2.06 2.06-.94-2.06-.94-.94-2.06-.94 2.06-2.06.94zm-11 1L8.5 8.5l.94-2.06 2.06-.94-2.06-.94L8.5 2.5l-.94 2.06-2.06.94zm10 10l.94 2.06.94-2.06 2.06-.94-2.06-.94-.94-2.06-.94 2.06-2.06.94z\"/><path d=\"M17.41 7.96l-1.37-1.37c-.4-.4-.92-.59-1.43-.59-.52 0-1.04.2-1.43.59L10.3 9.45l-7.72 7.72c-.78.78-.78 2.05 0 2.83L4 21.41c.39.39.9.59 1.41.59.51 0 1.02-.2 1.41-.59l7.78-7.78 2.81-2.81c.8-.78.8-2.07 0-2.86zM5.41 20L4 18.59l7.72-7.72 1.47 1.35L5.41 20z\"/>\n",
       "  </svg>\n",
       "      </button>\n",
       "      \n",
       "  <style>\n",
       "    .colab-df-container {\n",
       "      display:flex;\n",
       "      flex-wrap:wrap;\n",
       "      gap: 12px;\n",
       "    }\n",
       "\n",
       "    .colab-df-convert {\n",
       "      background-color: #E8F0FE;\n",
       "      border: none;\n",
       "      border-radius: 50%;\n",
       "      cursor: pointer;\n",
       "      display: none;\n",
       "      fill: #1967D2;\n",
       "      height: 32px;\n",
       "      padding: 0 0 0 0;\n",
       "      width: 32px;\n",
       "    }\n",
       "\n",
       "    .colab-df-convert:hover {\n",
       "      background-color: #E2EBFA;\n",
       "      box-shadow: 0px 1px 2px rgba(60, 64, 67, 0.3), 0px 1px 3px 1px rgba(60, 64, 67, 0.15);\n",
       "      fill: #174EA6;\n",
       "    }\n",
       "\n",
       "    [theme=dark] .colab-df-convert {\n",
       "      background-color: #3B4455;\n",
       "      fill: #D2E3FC;\n",
       "    }\n",
       "\n",
       "    [theme=dark] .colab-df-convert:hover {\n",
       "      background-color: #434B5C;\n",
       "      box-shadow: 0px 1px 3px 1px rgba(0, 0, 0, 0.15);\n",
       "      filter: drop-shadow(0px 1px 2px rgba(0, 0, 0, 0.3));\n",
       "      fill: #FFFFFF;\n",
       "    }\n",
       "  </style>\n",
       "\n",
       "      <script>\n",
       "        const buttonEl =\n",
       "          document.querySelector('#df-3e4aec41-3a3a-4f1e-b398-8978bc886518 button.colab-df-convert');\n",
       "        buttonEl.style.display =\n",
       "          google.colab.kernel.accessAllowed ? 'block' : 'none';\n",
       "\n",
       "        async function convertToInteractive(key) {\n",
       "          const element = document.querySelector('#df-3e4aec41-3a3a-4f1e-b398-8978bc886518');\n",
       "          const dataTable =\n",
       "            await google.colab.kernel.invokeFunction('convertToInteractive',\n",
       "                                                     [key], {});\n",
       "          if (!dataTable) return;\n",
       "\n",
       "          const docLinkHtml = 'Like what you see? Visit the ' +\n",
       "            '<a target=\"_blank\" href=https://colab.research.google.com/notebooks/data_table.ipynb>data table notebook</a>'\n",
       "            + ' to learn more about interactive tables.';\n",
       "          element.innerHTML = '';\n",
       "          dataTable['output_type'] = 'display_data';\n",
       "          await google.colab.output.renderOutput(dataTable, element);\n",
       "          const docLink = document.createElement('div');\n",
       "          docLink.innerHTML = docLinkHtml;\n",
       "          element.appendChild(docLink);\n",
       "        }\n",
       "      </script>\n",
       "    </div>\n",
       "  </div>\n",
       "  "
      ],
      "text/plain": [
       "                                              Review  \\\n",
       "0  What first caught my attention of these bars w...   \n",
       "1  Let me first tell you that before I was turned...   \n",
       "2  I find this Peach Green Tea to be the BEST and...   \n",
       "3  My husband and I are not big coffee drinkers. ...   \n",
       "4  I recently bought a 50 pack of the Tully's Ita...   \n",
       "\n",
       "                                             Summary Topic  \n",
       "0  What first caught my attention of these bars w...  Food  \n",
       "1  Without it, you risk the chance of having clum...  Food  \n",
       "2  I find this Peach Green Tea to be the BEST and...  Food  \n",
       "3  We are both watching our weight and find this ...  Food  \n",
       "4  My recommendation, buy this and enjoy great ta...  Food  "
      ]
     },
     "execution_count": 102,
     "metadata": {},
     "output_type": "execute_result"
    }
   ],
   "source": [
    "bert.head()"
   ]
  },
  {
   "cell_type": "code",
   "execution_count": 103,
   "metadata": {
    "id": "QmnxnK3bw8uH"
   },
   "outputs": [],
   "source": [
    "count = 0\n",
    "for index,row in electronics.iterrows():\n",
    "  string = row['Original summaries ']\n",
    "  index = bert.index[bert['Review']==string].tolist()\n",
    "  if len(index) == 0:\n",
    "    continue\n",
    "  bert_rogue.loc[count,'Reviews'] = string\n",
    "  bert_rogue.loc[count,'Human Summary'] = row['Summary']\n",
    "  summary = bert.loc[index[0],'Summary']\n",
    "  bert_rogue.loc[count,'Machine Summary'] = summary\n",
    "  count = count+1"
   ]
  },
  {
   "cell_type": "code",
   "execution_count": 107,
   "metadata": {
    "id": "3jj0ZdgnxV6y"
   },
   "outputs": [],
   "source": [
    "count = 25\n",
    "for index,row in food_df.iterrows():\n",
    "  string = row['Review']\n",
    "  index = bert.index[bert['Review']==string].tolist()\n",
    "  if len(index) == 0:\n",
    "    continue\n",
    "  bert_rogue.loc[count,'Reviews'] = string\n",
    "  bert_rogue.loc[count,'Human Summary'] = row['Human_summary']\n",
    "  summary = bert.loc[index[0],'Summary']\n",
    "  bert_rogue.loc[count,'Machine Summary'] = summary\n",
    "  count = count+1"
   ]
  },
  {
   "cell_type": "code",
   "execution_count": 109,
   "metadata": {
    "colab": {
     "base_uri": "https://localhost:8080/"
    },
    "id": "qhVV6t-HxkQy",
    "outputId": "53a35424-4519-434c-90e8-83bb559491b5"
   },
   "outputs": [
    {
     "data": {
      "text/plain": [
       "50"
      ]
     },
     "execution_count": 109,
     "metadata": {},
     "output_type": "execute_result"
    }
   ],
   "source": [
    "count"
   ]
  },
  {
   "cell_type": "code",
   "execution_count": 110,
   "metadata": {
    "id": "_XCai2EYxjlN"
   },
   "outputs": [],
   "source": [
    "count = 50\n",
    "for index,row in movies.iterrows():\n",
    "  string = row['Review']\n",
    "  index = bert.index[bert['Review']==string].tolist()\n",
    "  if len(index) == 0:\n",
    "    continue\n",
    "  bert_rogue.loc[count,'Reviews'] = string\n",
    "  bert_rogue.loc[count,'Human Summary'] = row['Gold Summary']\n",
    "  summary = bert.loc[index[0],'Summary']\n",
    "  bert_rogue.loc[count,'Machine Summary'] = summary\n",
    "  count = count+1"
   ]
  },
  {
   "cell_type": "code",
   "execution_count": 112,
   "metadata": {
    "colab": {
     "base_uri": "https://localhost:8080/"
    },
    "id": "5R8VtM8SaVOq",
    "outputId": "c294cbf2-fd68-44b7-ae21-c0c3c4ecb10f"
   },
   "outputs": [
    {
     "name": "stdout",
     "output_type": "stream",
     "text": [
      "Collecting rouge\n",
      "  Downloading rouge-1.0.1-py3-none-any.whl (13 kB)\n",
      "Requirement already satisfied: six in /usr/local/lib/python3.7/dist-packages (from rouge) (1.15.0)\n",
      "Installing collected packages: rouge\n",
      "Successfully installed rouge-1.0.1\n"
     ]
    }
   ],
   "source": [
    "pip install rouge"
   ]
  },
  {
   "cell_type": "code",
   "execution_count": 113,
   "metadata": {
    "id": "EHEtY02QzGTe"
   },
   "outputs": [],
   "source": [
    "from rouge import Rouge"
   ]
  },
  {
   "cell_type": "code",
   "execution_count": 114,
   "metadata": {
    "id": "4Kz4UNgNy-ys"
   },
   "outputs": [],
   "source": [
    "model_out = \"the siege lasted from 250 to 241 bc, the romans laid siege to lilybaeum\"\n",
    "\n",
    "reference = \"the siege of lilybaeum lasted from 250 to 241 bc, as the roman army laid siege to the carthaginian-held sicilian city of lilybaeum\""
   ]
  },
  {
   "cell_type": "code",
   "execution_count": 115,
   "metadata": {
    "id": "6Fxo6M7mzBzY"
   },
   "outputs": [],
   "source": [
    "rouge = Rouge()"
   ]
  },
  {
   "cell_type": "code",
   "execution_count": 116,
   "metadata": {
    "id": "7g6997FSzEMt"
   },
   "outputs": [],
   "source": [
    "human_summary_bert = bert_rogue['Human Summary'].to_list()\n",
    "human_summary_t5 = t5_rogue['Human Summary'].to_list()\n",
    "human_summary_bart = bart_rogue['Human Summary'].to_list()"
   ]
  },
  {
   "cell_type": "code",
   "execution_count": 117,
   "metadata": {
    "id": "Sf-uqV3kuCm_"
   },
   "outputs": [],
   "source": [
    "machine_summary_t5 = t5_rogue['Machine Summary'].to_list()\n",
    "machine_summary_bert = bert_rogue['Machine Summary'].to_list()\n",
    "machine_summary_bart = bart_rogue['Machine Summary'].to_list()"
   ]
  },
  {
   "cell_type": "code",
   "execution_count": null,
   "metadata": {
    "colab": {
     "base_uri": "https://localhost:8080/"
    },
    "id": "1HvfKoYOuW2f",
    "outputId": "7f96f443-4ad0-4bd8-fb31-db55e23189c9"
   },
   "outputs": [
    {
     "data": {
      "text/plain": [
       "{'rouge-1': {'f': 0.3663088212412486,\n",
       "  'p': 0.41181453372198884,\n",
       "  'r': 0.34635416287257226},\n",
       " 'rouge-2': {'f': 0.18330233883838284,\n",
       "  'p': 0.2054406652320255,\n",
       "  'r': 0.17538754481013888},\n",
       " 'rouge-l': {'f': 0.3404522387558242,\n",
       "  'p': 0.3829181451405295,\n",
       "  'r': 0.3219126624880232}}"
      ]
     },
     "execution_count": 399,
     "metadata": {},
     "output_type": "execute_result"
    }
   ],
   "source": [
    "rouge.get_scores(machine_summary_t5, human_summary_t5, avg=True)"
   ]
  },
  {
   "cell_type": "code",
   "execution_count": null,
   "metadata": {
    "colab": {
     "base_uri": "https://localhost:8080/"
    },
    "id": "2sea8gtArOZl",
    "outputId": "28defea4-5816-42e8-b803-3f75b4bdb6e5"
   },
   "outputs": [
    {
     "data": {
      "text/plain": [
       "{'rouge-1': {'f': 0.2347597635919895,\n",
       "  'p': 0.26513854005452925,\n",
       "  'r': 0.21698002459474694},\n",
       " 'rouge-2': {'f': 0.04691444605836224,\n",
       "  'p': 0.05385665413365294,\n",
       "  'r': 0.04294830147071845},\n",
       " 'rouge-l': {'f': 0.20161479554108402,\n",
       "  'p': 0.2272461470409941,\n",
       "  'r': 0.18665989583661324}}"
      ]
     },
     "execution_count": 367,
     "metadata": {},
     "output_type": "execute_result"
    }
   ],
   "source": [
    "rouge.get_scores(machine_summary_bart, human_summary_bart, avg=True)"
   ]
  },
  {
   "cell_type": "code",
   "execution_count": null,
   "metadata": {
    "colab": {
     "base_uri": "https://localhost:8080/"
    },
    "id": "PlwSsyRm3pRr",
    "outputId": "2c360e1e-349e-421d-e547-d70519c5e5f8"
   },
   "outputs": [
    {
     "data": {
      "text/plain": [
       "{'rouge-1': {'f': 0.3314272945614604,\n",
       "  'p': 0.4342277437850998,\n",
       "  'r': 0.2798289002252813},\n",
       " 'rouge-2': {'f': 0.16893632770645786,\n",
       "  'p': 0.23134724098580933,\n",
       "  'r': 0.13905097752350257},\n",
       " 'rouge-l': {'f': 0.31092545450203446,\n",
       "  'p': 0.4082305546482405,\n",
       "  'r': 0.2620980567956307}}"
      ]
     },
     "execution_count": 366,
     "metadata": {},
     "output_type": "execute_result"
    }
   ],
   "source": [
    "rouge.get_scores(machine_summary_bert, human_summary_bert, avg=True)"
   ]
  }
 ],
 "metadata": {
  "colab": {
   "name": "Untitled2.ipynb",
   "provenance": []
  },
  "kernelspec": {
   "display_name": "Python 3 (ipykernel)",
   "language": "python",
   "name": "python3"
  },
  "language_info": {
   "codemirror_mode": {
    "name": "ipython",
    "version": 3
   },
   "file_extension": ".py",
   "mimetype": "text/x-python",
   "name": "python",
   "nbconvert_exporter": "python",
   "pygments_lexer": "ipython3",
   "version": "3.7.8"
  }
 },
 "nbformat": 4,
 "nbformat_minor": 1
}
