{
 "cells": [
  {
   "cell_type": "code",
   "execution_count": 1,
   "id": "1324c042",
   "metadata": {},
   "outputs": [],
   "source": [
    "import pandas as pd"
   ]
  },
  {
   "cell_type": "code",
   "execution_count": 2,
   "id": "ed3cf5fb",
   "metadata": {},
   "outputs": [],
   "source": [
    "data=pd.read_csv('Data/Reviews.csv')"
   ]
  },
  {
   "cell_type": "code",
   "execution_count": 3,
   "id": "c250224e",
   "metadata": {},
   "outputs": [
    {
     "data": {
      "text/plain": [
       "(668055, 2)"
      ]
     },
     "execution_count": 3,
     "metadata": {},
     "output_type": "execute_result"
    }
   ],
   "source": [
    "data.shape"
   ]
  },
  {
   "cell_type": "code",
   "execution_count": 4,
   "id": "0c45d870",
   "metadata": {},
   "outputs": [
    {
     "data": {
      "text/html": [
       "<div>\n",
       "<style scoped>\n",
       "    .dataframe tbody tr th:only-of-type {\n",
       "        vertical-align: middle;\n",
       "    }\n",
       "\n",
       "    .dataframe tbody tr th {\n",
       "        vertical-align: top;\n",
       "    }\n",
       "\n",
       "    .dataframe thead th {\n",
       "        text-align: right;\n",
       "    }\n",
       "</style>\n",
       "<table border=\"1\" class=\"dataframe\">\n",
       "  <thead>\n",
       "    <tr style=\"text-align: right;\">\n",
       "      <th></th>\n",
       "      <th>Review</th>\n",
       "      <th>Topic</th>\n",
       "    </tr>\n",
       "  </thead>\n",
       "  <tbody>\n",
       "    <tr>\n",
       "      <th>0</th>\n",
       "      <td>nice hotel expensive parking got good deal sta...</td>\n",
       "      <td>Hotel</td>\n",
       "    </tr>\n",
       "    <tr>\n",
       "      <th>1</th>\n",
       "      <td>ok nothing special charge diamond member hilto...</td>\n",
       "      <td>Hotel</td>\n",
       "    </tr>\n",
       "    <tr>\n",
       "      <th>2</th>\n",
       "      <td>nice rooms not 4* experience hotel monaco seat...</td>\n",
       "      <td>Hotel</td>\n",
       "    </tr>\n",
       "    <tr>\n",
       "      <th>3</th>\n",
       "      <td>unique, great stay, wonderful time hotel monac...</td>\n",
       "      <td>Hotel</td>\n",
       "    </tr>\n",
       "    <tr>\n",
       "      <th>4</th>\n",
       "      <td>great stay great stay, went seahawk game aweso...</td>\n",
       "      <td>Hotel</td>\n",
       "    </tr>\n",
       "  </tbody>\n",
       "</table>\n",
       "</div>"
      ],
      "text/plain": [
       "                                              Review  Topic\n",
       "0  nice hotel expensive parking got good deal sta...  Hotel\n",
       "1  ok nothing special charge diamond member hilto...  Hotel\n",
       "2  nice rooms not 4* experience hotel monaco seat...  Hotel\n",
       "3  unique, great stay, wonderful time hotel monac...  Hotel\n",
       "4  great stay great stay, went seahawk game aweso...  Hotel"
      ]
     },
     "execution_count": 4,
     "metadata": {},
     "output_type": "execute_result"
    }
   ],
   "source": [
    "data.head()"
   ]
  },
  {
   "cell_type": "code",
   "execution_count": 5,
   "id": "0e10bed4",
   "metadata": {},
   "outputs": [
    {
     "data": {
      "text/plain": [
       "0          89\n",
       "1         252\n",
       "2         219\n",
       "3          91\n",
       "4         193\n",
       "         ... \n",
       "668050    248\n",
       "668051     47\n",
       "668052      2\n",
       "668053      6\n",
       "668054      2\n",
       "Name: Review, Length: 668055, dtype: int64"
      ]
     },
     "execution_count": 5,
     "metadata": {},
     "output_type": "execute_result"
    }
   ],
   "source": [
    "data['Review'].str.split(' ').apply(len)"
   ]
  },
  {
   "cell_type": "code",
   "execution_count": 6,
   "id": "ad8f3d91",
   "metadata": {},
   "outputs": [
    {
     "name": "stdout",
     "output_type": "stream",
     "text": [
      "469557\n"
     ]
    }
   ],
   "source": [
    "count=0\n",
    "for x in data['Review'].str.split(' ').apply(len):\n",
    "    if x<100:\n",
    "        count=count+1\n",
    "print(count)  "
   ]
  },
  {
   "cell_type": "code",
   "execution_count": 7,
   "id": "0cd87fb0",
   "metadata": {},
   "outputs": [],
   "source": [
    "Hotel=data[data[\"Topic\"]=='Hotel']"
   ]
  },
  {
   "cell_type": "code",
   "execution_count": 8,
   "id": "e7994113",
   "metadata": {},
   "outputs": [
    {
     "data": {
      "text/html": [
       "<div>\n",
       "<style scoped>\n",
       "    .dataframe tbody tr th:only-of-type {\n",
       "        vertical-align: middle;\n",
       "    }\n",
       "\n",
       "    .dataframe tbody tr th {\n",
       "        vertical-align: top;\n",
       "    }\n",
       "\n",
       "    .dataframe thead th {\n",
       "        text-align: right;\n",
       "    }\n",
       "</style>\n",
       "<table border=\"1\" class=\"dataframe\">\n",
       "  <thead>\n",
       "    <tr style=\"text-align: right;\">\n",
       "      <th></th>\n",
       "      <th>Review</th>\n",
       "      <th>Topic</th>\n",
       "    </tr>\n",
       "  </thead>\n",
       "  <tbody>\n",
       "    <tr>\n",
       "      <th>0</th>\n",
       "      <td>nice hotel expensive parking got good deal sta...</td>\n",
       "      <td>Hotel</td>\n",
       "    </tr>\n",
       "    <tr>\n",
       "      <th>1</th>\n",
       "      <td>ok nothing special charge diamond member hilto...</td>\n",
       "      <td>Hotel</td>\n",
       "    </tr>\n",
       "    <tr>\n",
       "      <th>2</th>\n",
       "      <td>nice rooms not 4* experience hotel monaco seat...</td>\n",
       "      <td>Hotel</td>\n",
       "    </tr>\n",
       "    <tr>\n",
       "      <th>3</th>\n",
       "      <td>unique, great stay, wonderful time hotel monac...</td>\n",
       "      <td>Hotel</td>\n",
       "    </tr>\n",
       "    <tr>\n",
       "      <th>4</th>\n",
       "      <td>great stay great stay, went seahawk game aweso...</td>\n",
       "      <td>Hotel</td>\n",
       "    </tr>\n",
       "  </tbody>\n",
       "</table>\n",
       "</div>"
      ],
      "text/plain": [
       "                                              Review  Topic\n",
       "0  nice hotel expensive parking got good deal sta...  Hotel\n",
       "1  ok nothing special charge diamond member hilto...  Hotel\n",
       "2  nice rooms not 4* experience hotel monaco seat...  Hotel\n",
       "3  unique, great stay, wonderful time hotel monac...  Hotel\n",
       "4  great stay great stay, went seahawk game aweso...  Hotel"
      ]
     },
     "execution_count": 8,
     "metadata": {},
     "output_type": "execute_result"
    }
   ],
   "source": [
    "Hotel.head()"
   ]
  },
  {
   "cell_type": "code",
   "execution_count": 26,
   "id": "51eb722e",
   "metadata": {},
   "outputs": [],
   "source": [
    "hotel_final=Hotel[Hotel['Review'].apply(lambda x: len(x.split(' ')) > 140)]"
   ]
  },
  {
   "cell_type": "code",
   "execution_count": 27,
   "id": "d3245132",
   "metadata": {},
   "outputs": [
    {
     "data": {
      "text/html": [
       "<div>\n",
       "<style scoped>\n",
       "    .dataframe tbody tr th:only-of-type {\n",
       "        vertical-align: middle;\n",
       "    }\n",
       "\n",
       "    .dataframe tbody tr th {\n",
       "        vertical-align: top;\n",
       "    }\n",
       "\n",
       "    .dataframe thead th {\n",
       "        text-align: right;\n",
       "    }\n",
       "</style>\n",
       "<table border=\"1\" class=\"dataframe\">\n",
       "  <thead>\n",
       "    <tr style=\"text-align: right;\">\n",
       "      <th></th>\n",
       "      <th>Review</th>\n",
       "      <th>Topic</th>\n",
       "    </tr>\n",
       "  </thead>\n",
       "  <tbody>\n",
       "    <tr>\n",
       "      <th>1</th>\n",
       "      <td>ok nothing special charge diamond member hilto...</td>\n",
       "      <td>Hotel</td>\n",
       "    </tr>\n",
       "    <tr>\n",
       "      <th>2</th>\n",
       "      <td>nice rooms not 4* experience hotel monaco seat...</td>\n",
       "      <td>Hotel</td>\n",
       "    </tr>\n",
       "    <tr>\n",
       "      <th>4</th>\n",
       "      <td>great stay great stay, went seahawk game aweso...</td>\n",
       "      <td>Hotel</td>\n",
       "    </tr>\n",
       "    <tr>\n",
       "      <th>15</th>\n",
       "      <td>horrible customer service hotel stay february ...</td>\n",
       "      <td>Hotel</td>\n",
       "    </tr>\n",
       "    <tr>\n",
       "      <th>16</th>\n",
       "      <td>disappointed say anticipating stay hotel monac...</td>\n",
       "      <td>Hotel</td>\n",
       "    </tr>\n",
       "  </tbody>\n",
       "</table>\n",
       "</div>"
      ],
      "text/plain": [
       "                                               Review  Topic\n",
       "1   ok nothing special charge diamond member hilto...  Hotel\n",
       "2   nice rooms not 4* experience hotel monaco seat...  Hotel\n",
       "4   great stay great stay, went seahawk game aweso...  Hotel\n",
       "15  horrible customer service hotel stay february ...  Hotel\n",
       "16  disappointed say anticipating stay hotel monac...  Hotel"
      ]
     },
     "execution_count": 27,
     "metadata": {},
     "output_type": "execute_result"
    }
   ],
   "source": [
    "hotel_final.head()"
   ]
  },
  {
   "cell_type": "code",
   "execution_count": 28,
   "id": "fa3df2fd",
   "metadata": {},
   "outputs": [
    {
     "data": {
      "text/plain": [
       "(4211, 2)"
      ]
     },
     "execution_count": 28,
     "metadata": {},
     "output_type": "execute_result"
    }
   ],
   "source": [
    "hotel_final.shape"
   ]
  },
  {
   "cell_type": "code",
   "execution_count": 15,
   "id": "5cd382d1",
   "metadata": {},
   "outputs": [],
   "source": [
    "elec=data[data[\"Topic\"]=='Electronics']"
   ]
  },
  {
   "cell_type": "code",
   "execution_count": 21,
   "id": "41878688",
   "metadata": {},
   "outputs": [
    {
     "data": {
      "text/plain": [
       "(3793, 2)"
      ]
     },
     "execution_count": 21,
     "metadata": {},
     "output_type": "execute_result"
    }
   ],
   "source": [
    "elec_final=elec[elec['Review'].apply(lambda x: len(x.split(' ')) > 100)]\n",
    "elec_final.shape"
   ]
  },
  {
   "cell_type": "code",
   "execution_count": 29,
   "id": "bfe77fa8",
   "metadata": {},
   "outputs": [],
   "source": [
    "Food=data[data[\"Topic\"]=='Food']"
   ]
  },
  {
   "cell_type": "code",
   "execution_count": 30,
   "id": "cb40d019",
   "metadata": {},
   "outputs": [
    {
     "data": {
      "text/plain": [
       "(140951, 2)"
      ]
     },
     "execution_count": 30,
     "metadata": {},
     "output_type": "execute_result"
    }
   ],
   "source": [
    "food=Food[Food['Review'].apply(lambda x: len(x.split(' ')) > 100)]\n",
    "food.shape"
   ]
  },
  {
   "cell_type": "code",
   "execution_count": 31,
   "id": "1f7ed887",
   "metadata": {},
   "outputs": [],
   "source": [
    "final_food=food.sample(n=4000,random_state=1)"
   ]
  },
  {
   "cell_type": "code",
   "execution_count": 32,
   "id": "08f3b9cb",
   "metadata": {},
   "outputs": [
    {
     "data": {
      "text/plain": [
       "(4000, 2)"
      ]
     },
     "execution_count": 32,
     "metadata": {},
     "output_type": "execute_result"
    }
   ],
   "source": [
    "final_food.shape"
   ]
  },
  {
   "cell_type": "code",
   "execution_count": 33,
   "id": "3769ce4d",
   "metadata": {},
   "outputs": [],
   "source": [
    "movie=data[data[\"Topic\"]=='Movies']"
   ]
  },
  {
   "cell_type": "code",
   "execution_count": 34,
   "id": "10ed8b30",
   "metadata": {},
   "outputs": [
    {
     "data": {
      "text/plain": [
       "(43879, 2)"
      ]
     },
     "execution_count": 34,
     "metadata": {},
     "output_type": "execute_result"
    }
   ],
   "source": [
    "movies=movie[movie['Review'].apply(lambda x: len(x.split(' ')) > 100)]\n",
    "movies.shape"
   ]
  },
  {
   "cell_type": "code",
   "execution_count": 35,
   "id": "d2e202b1",
   "metadata": {},
   "outputs": [
    {
     "data": {
      "text/plain": [
       "(4000, 2)"
      ]
     },
     "execution_count": 35,
     "metadata": {},
     "output_type": "execute_result"
    }
   ],
   "source": [
    "final_movies=movies.sample(n=4000,random_state=1)\n",
    "final_movies.shape"
   ]
  },
  {
   "cell_type": "code",
   "execution_count": 36,
   "id": "4bf948b2",
   "metadata": {},
   "outputs": [],
   "source": [
    "final_data=pd.concat([final_food,final_movies,elec_final,hotel_final])"
   ]
  },
  {
   "cell_type": "code",
   "execution_count": 37,
   "id": "5c99ea79",
   "metadata": {},
   "outputs": [
    {
     "data": {
      "text/html": [
       "<div>\n",
       "<style scoped>\n",
       "    .dataframe tbody tr th:only-of-type {\n",
       "        vertical-align: middle;\n",
       "    }\n",
       "\n",
       "    .dataframe tbody tr th {\n",
       "        vertical-align: top;\n",
       "    }\n",
       "\n",
       "    .dataframe thead th {\n",
       "        text-align: right;\n",
       "    }\n",
       "</style>\n",
       "<table border=\"1\" class=\"dataframe\">\n",
       "  <thead>\n",
       "    <tr style=\"text-align: right;\">\n",
       "      <th></th>\n",
       "      <th>Review</th>\n",
       "      <th>Topic</th>\n",
       "    </tr>\n",
       "  </thead>\n",
       "  <tbody>\n",
       "    <tr>\n",
       "      <th>284697</th>\n",
       "      <td>What first caught my attention of these bars w...</td>\n",
       "      <td>Food</td>\n",
       "    </tr>\n",
       "    <tr>\n",
       "      <th>517424</th>\n",
       "      <td>Let me first tell you that before I was turned...</td>\n",
       "      <td>Food</td>\n",
       "    </tr>\n",
       "    <tr>\n",
       "      <th>161500</th>\n",
       "      <td>I find this Peach Green Tea to be the BEST and...</td>\n",
       "      <td>Food</td>\n",
       "    </tr>\n",
       "    <tr>\n",
       "      <th>336936</th>\n",
       "      <td>My husband and I are not big coffee drinkers. ...</td>\n",
       "      <td>Food</td>\n",
       "    </tr>\n",
       "    <tr>\n",
       "      <th>576398</th>\n",
       "      <td>I recently bought a 50 pack of the Tully's Ita...</td>\n",
       "      <td>Food</td>\n",
       "    </tr>\n",
       "  </tbody>\n",
       "</table>\n",
       "</div>"
      ],
      "text/plain": [
       "                                                   Review Topic\n",
       "284697  What first caught my attention of these bars w...  Food\n",
       "517424  Let me first tell you that before I was turned...  Food\n",
       "161500  I find this Peach Green Tea to be the BEST and...  Food\n",
       "336936  My husband and I are not big coffee drinkers. ...  Food\n",
       "576398  I recently bought a 50 pack of the Tully's Ita...  Food"
      ]
     },
     "execution_count": 37,
     "metadata": {},
     "output_type": "execute_result"
    }
   ],
   "source": [
    "final_data.head()"
   ]
  },
  {
   "cell_type": "code",
   "execution_count": 38,
   "id": "e14f3a2d",
   "metadata": {},
   "outputs": [
    {
     "data": {
      "text/plain": [
       "(16004, 2)"
      ]
     },
     "execution_count": 38,
     "metadata": {},
     "output_type": "execute_result"
    }
   ],
   "source": [
    "final_data.shape"
   ]
  },
  {
   "cell_type": "code",
   "execution_count": 154,
   "id": "a81c8986",
   "metadata": {},
   "outputs": [
    {
     "data": {
      "text/plain": [
       "Food           16000\n",
       "Movies         16000\n",
       "Hotel          13382\n",
       "Electronics     9258\n",
       "Name: Topic, dtype: int64"
      ]
     },
     "execution_count": 154,
     "metadata": {},
     "output_type": "execute_result"
    }
   ],
   "source": [
    "final_data['Topic'].value_counts()"
   ]
  },
  {
   "cell_type": "code",
   "execution_count": 39,
   "id": "902ed929",
   "metadata": {},
   "outputs": [],
   "source": [
    "import re\n",
    "def remove_html_tags(text):\n",
    "    pattern = re.compile('<.*?>')\n",
    "    return pattern.sub(r'', text)"
   ]
  },
  {
   "cell_type": "code",
   "execution_count": 40,
   "id": "212bfae3",
   "metadata": {},
   "outputs": [],
   "source": [
    "final_data['Review']=final_data['Review'].apply(remove_html_tags)"
   ]
  },
  {
   "cell_type": "code",
   "execution_count": 41,
   "id": "52928488",
   "metadata": {},
   "outputs": [],
   "source": [
    "def remove_url(text):\n",
    "    pattern = re.compile(r'https?://\\S+|www\\.\\S+')\n",
    "    return pattern.sub(r'', text)"
   ]
  },
  {
   "cell_type": "code",
   "execution_count": 42,
   "id": "7705cac1",
   "metadata": {},
   "outputs": [],
   "source": [
    "final_data['Review']=final_data['Review'].apply(remove_url)"
   ]
  },
  {
   "cell_type": "code",
   "execution_count": 43,
   "id": "bae69829",
   "metadata": {},
   "outputs": [],
   "source": [
    "final_data.to_csv('final_data.csv',index=False)"
   ]
  },
  {
   "cell_type": "code",
   "execution_count": null,
   "id": "a3c26e56",
   "metadata": {},
   "outputs": [],
   "source": []
  }
 ],
 "metadata": {
  "kernelspec": {
   "display_name": "Python 3 (ipykernel)",
   "language": "python",
   "name": "python3"
  },
  "language_info": {
   "codemirror_mode": {
    "name": "ipython",
    "version": 3
   },
   "file_extension": ".py",
   "mimetype": "text/x-python",
   "name": "python",
   "nbconvert_exporter": "python",
   "pygments_lexer": "ipython3",
   "version": "3.7.8"
  }
 },
 "nbformat": 4,
 "nbformat_minor": 5
}
